{
 "cells": [
  {
   "cell_type": "code",
   "execution_count": 40,
   "metadata": {
    "collapsed": false,
    "scrolled": true
   },
   "outputs": [
    {
     "name": "stdout",
     "output_type": "stream",
     "text": [
      "Training...\n",
      "Predicting...\n",
      "Done.\n"
     ]
    },
    {
     "name": "stderr",
     "output_type": "stream",
     "text": [
      "/Users/pivotal/anaconda/lib/python2.7/site-packages/IPython/kernel/__main__.py:12: SettingWithCopyWarning: \n",
      "A value is trying to be set on a copy of a slice from a DataFrame\n",
      "\n",
      "See the the caveats in the documentation: http://pandas.pydata.org/pandas-docs/stable/indexing.html#indexing-view-versus-copy\n"
     ]
    }
   ],
   "source": [
    "import pandas as pd\n",
    "import numpy as np\n",
    "import pylab as P\n",
    "import csv as csv\n",
    "from sklearn.ensemble import RandomForestClassifier\n",
    "\n",
    "df = pd.read_csv('csv/train.csv', header = 0)\n",
    "\n",
    "df['Gender'] = df.Sex.map( {'female': 0, 'male': 1} ).astype(int)\n",
    "\n",
    "if len(df.Embarked[ df.Embarked.isnull() ]) > 0:\n",
    "    df.Embarked[ df.Embarked.isnull() ] = df.Embarked.dropna().mode().values\n",
    "    \n",
    "Ports = list(enumerate(np.unique(df.Embarked)))\n",
    "Ports_dict = { name : i for i, name in Ports }\n",
    "df.Embarked = df.Embarked.map( lambda x: Ports_dict[x]).astype(int)\n",
    "\n",
    "median_ages = np.zeros((2,3))\n",
    "\n",
    "for i in range(0,2):\n",
    "    for j in range(0,3):\n",
    "        median_ages[i,j] = df[(df['Gender'] == i) & \\\n",
    "                             (df['Pclass'] == j + 1)]['Age'].dropna().median()\n",
    "\n",
    "df['AgeFill'] = df['Age']\n",
    "for i in range(0,2):\n",
    "    for j in range(0,3):\n",
    "        df.loc[ (df.Age.isnull()) & (df.Gender == i) & (df.Pclass == j+1),\\\n",
    "                'AgeFill'] = median_ages[i,j]\n",
    "\n",
    "# df['AgeIsNull'] = pd.isnull(df.Age).astype(int)\n",
    "\n",
    "# df['FamilySize'] = df['SibSp'] + df['Parch']\n",
    "\n",
    "# df['AgeClassMultiplied'] = df.AgeFill * df.Pclass\n",
    "\n",
    "df = df.drop(['PassengerId', 'Age', 'Name', 'Sex', 'Ticket', 'Cabin'], axis=1)\n",
    "\n",
    "train_data = df.values\n",
    "\n",
    "test_df = pd.read_csv('csv/test.csv', header = 0)\n",
    "\n",
    "test_df['Gender'] = test_df.Sex.map( { 'female': 0, 'male': 1}).astype(int)\n",
    "\n",
    "if len(test_df.Embarked[ test_df.Embarked.isnull() ]) > 0:\n",
    "    test_df.Embarked[ test_df.Embarked.isnull() ] = test_df.Embarked.dropna().mode().value\n",
    "test_df.Embarked = test_df.Embarked.map( lambda x: Ports_dict[x]).astype(int)\n",
    "\n",
    "test_median_ages = np.zeros((2,3))\n",
    "\n",
    "for i in range(0,2):\n",
    "    for j in range(0,3):\n",
    "        test_median_ages[i,j] = test_df[(test_df['Gender'] == i) & \\\n",
    "                             (test_df['Pclass'] == j + 1)]['Age'].dropna().median()\n",
    "\n",
    "test_df['AgeFill'] = test_df['Age']\n",
    "for i in range(0,2):\n",
    "    for j in range(0,3):\n",
    "        test_df.loc[ (test_df.Age.isnull()) & (test_df.Gender == i) & (test_df.Pclass == j+1),\\\n",
    "                'AgeFill'] = test_median_ages[i,j]\n",
    "        \n",
    "if len(test_df.Fare[ test_df.Fare.isnull() ]) > 0:\n",
    "    median_fare = np.zeros(3)\n",
    "    for f in range(0, 3):\n",
    "        median_fare[f] = test_df[ test_df.Pclass == f + 1]['Fare'].dropna().median()\n",
    "    for f in range(0, 3):\n",
    "        test_df.loc[ (test_df.Fare.isnull()) & (test_df.Pclass == f + 1), 'Fare'] = median_fare[f]\n",
    "        \n",
    "ids = test_df['PassengerId'].values\n",
    "test_df = test_df.drop(['PassengerId', 'Age', 'Name', 'Sex', 'Ticket', 'Cabin'], axis=1)\n",
    "\n",
    "test_data = test_df.values\n",
    "\n",
    "print 'Training...'\n",
    "forest = RandomForestClassifier(n_estimators = 100)\n",
    "forest = forest.fit(train_data[0::, 1::], train_data[0::, 0])\n",
    "\n",
    "print 'Predicting...'\n",
    "output = forest.predict(test_data).astype(int)\n",
    "\n",
    "predictions_file = open('myfirstforest.csv', 'wb')\n",
    "open_file_object = csv.writer(predictions_file)\n",
    "open_file_object.writerow(['PassengerId', 'Survived'])\n",
    "open_file_object.writerows(zip(ids, output))\n",
    "predictions_file.close()\n",
    "\n",
    "print 'Done.'\n"
   ]
  }
 ],
 "metadata": {
  "kernelspec": {
   "display_name": "Python 2",
   "language": "python",
   "name": "python2"
  },
  "language_info": {
   "codemirror_mode": {
    "name": "ipython",
    "version": 2
   },
   "file_extension": ".py",
   "mimetype": "text/x-python",
   "name": "python",
   "nbconvert_exporter": "python",
   "pygments_lexer": "ipython2",
   "version": "2.7.10"
  }
 },
 "nbformat": 4,
 "nbformat_minor": 0
}
